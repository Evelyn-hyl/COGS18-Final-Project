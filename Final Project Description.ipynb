{
 "cells": [
  {
   "cell_type": "markdown",
   "id": "c499c256",
   "metadata": {},
   "source": [
    "# Project Description\n",
    "\n",
    "As a procrastinator, a proper to-do list is important. I often find that to-do list apps include too many properties for tasks that using them can be overwhelming. Thus, I dedicated this final project to making a simple to-do list website by applying Python and prior experience in HTML and CSS. \n",
    "\n",
    "### In this project, I used:\n",
    "- Coding Language: Python\n",
    "- Markup Language: HTML, CSS\n",
    "\n",
    "My to-do list website is able to carry out two functions:\n",
    "- ``Add Task and Priority`` to add a task and its priority on a scale of numbers\n",
    "- ``Delete Task`` to delete a task"
   ]
  },
  {
   "cell_type": "markdown",
   "id": "a5a16097",
   "metadata": {},
   "source": [
    "# Project Code"
   ]
  },
  {
   "cell_type": "markdown",
   "id": "9569b48d",
   "metadata": {},
   "source": [
    "After doing some research, I discovered that Flask and its extension Flask-SQLAlchemy is the perfect web framework for my project. It has relatively simple and understandable methods that can be used to create the \"Add Task and Priority\" and \"Delete Task\" functions.\n",
    "\n",
    "Before that, I first imported the following functions\n",
    "- Flask\n",
    "- render_template (to link functions to html templates)\n",
    "- url_for (to link my css file in my base.html)\n",
    "- request (for when my html file sends a web request to my python file app.py)\n",
    "- redirect (for redirecting to the index page after the execution of each function)\n",
    "\n",
    "I also set up my database with the following conventions."
   ]
  },
  {
   "cell_type": "code",
   "execution_count": null,
   "id": "b92d6a8c",
   "metadata": {},
   "outputs": [],
   "source": [
    "from flask import Flask, render_template, url_for, request, redirect\n",
    "from flask_sqlalchemy import SQLAlchemy"
   ]
  },
  {
   "cell_type": "code",
   "execution_count": null,
   "id": "8e2e3d70",
   "metadata": {},
   "outputs": [],
   "source": [
    "app = Flask(__name__)\n",
    "app.config['SQLALCHEMY_DATABASE_URI'] = 'sqlite:///test.db'\n",
    "db = SQLAlchemy(app)"
   ]
  },
  {
   "cell_type": "markdown",
   "id": "77a77def",
   "metadata": {},
   "source": [
    "I defined the following class and added attributes to my tasks, including the id as the primary identifying key, the task item, and the task priority. \n",
    "\n",
    "I added a method so that the objects would be stored as a string in the database. "
   ]
  },
  {
   "cell_type": "code",
   "execution_count": null,
   "id": "ab3277d8",
   "metadata": {},
   "outputs": [],
   "source": [
    "class Todolist(db.Model):  \n",
    "    id = db.Column(db.Integer, primary_key=True)\n",
    "    item = db.Column(db.String(100), nullable=False)\n",
    "    priority = db.Column(db.Integer, default=1)\n",
    "\n",
    "    def __repr__(self):\n",
    "        return '<Task %r>' % self.id"
   ]
  },
  {
   "cell_type": "markdown",
   "id": "495486fb",
   "metadata": {},
   "source": [
    "### Functions\n",
    "1. ``Add Task and Priority``\n",
    "- uses functions and methods from SQLAlchemy (request, db.session.add(), db.session.commit())\n",
    "- orders tasks according to priority (tasks labelled 1 will be automatically moved on top, then 2, then 3, and so on)\n",
    "- renders index.html"
   ]
  },
  {
   "cell_type": "code",
   "execution_count": null,
   "id": "774d4677",
   "metadata": {},
   "outputs": [],
   "source": [
    "@app.route('/', methods=['POST', 'GET'])\n",
    "def index():\n",
    "    if request.method == 'POST':\n",
    "        taskname = request.form['taskname']\n",
    "        taskpriority = request.form['taskpriority']\n",
    "        catalog_task = Todolist(item=taskname, priority=taskpriority)\n",
    "        db.session.add(catalog_task)\n",
    "        db.session.commit()\n",
    "        return redirect('/')\n",
    "    else:\n",
    "        items = Todolist.query.order_by(Todolist.priority).all()\n",
    "        return render_template('index.html', items=items)"
   ]
  },
  {
   "cell_type": "markdown",
   "id": "55cfd471",
   "metadata": {},
   "source": [
    "2. ``Delete Task``\n",
    "- deletes item by its id\n",
    "- redirects back to the index page"
   ]
  },
  {
   "cell_type": "code",
   "execution_count": null,
   "id": "5e9c8c58",
   "metadata": {},
   "outputs": [],
   "source": [
    "@app.route('/delete/<int:id>')\n",
    "def delete(id):\n",
    "    deleting_item = Todolist.query.get_or_404(id)\n",
    "    db.session.delete(deleting_item)\n",
    "    db.session.commit()\n",
    "    return redirect('/')"
   ]
  }
 ],
 "metadata": {
  "kernelspec": {
   "display_name": "Python 3 (clean)",
   "language": "python",
   "name": "python3_clean"
  },
  "language_info": {
   "codemirror_mode": {
    "name": "ipython",
    "version": 3
   },
   "file_extension": ".py",
   "mimetype": "text/x-python",
   "name": "python",
   "nbconvert_exporter": "python",
   "pygments_lexer": "ipython3",
   "version": "3.9.5"
  }
 },
 "nbformat": 4,
 "nbformat_minor": 5
}
